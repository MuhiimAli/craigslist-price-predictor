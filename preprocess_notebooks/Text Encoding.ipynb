{
 "cells": [
  {
   "cell_type": "code",
   "execution_count": 16,
   "id": "c005e3ed",
   "metadata": {},
   "outputs": [],
   "source": [
    "import spacy\n",
    "import json\n",
    "from tqdm import tqdm\n",
    "import numpy as np"
   ]
  },
  {
   "cell_type": "code",
   "execution_count": 17,
   "id": "4e5f2c13",
   "metadata": {},
   "outputs": [],
   "source": [
    "with open(\"../data/item_with_images.json\", \"r\") as items_json:\n",
    "    items = json.load(items_json)"
   ]
  },
  {
   "cell_type": "code",
   "execution_count": 18,
   "id": "3e316a00",
   "metadata": {},
   "outputs": [],
   "source": [
    "nlp = spacy.load(\"en_core_web_sm\")"
   ]
  },
  {
   "cell_type": "code",
   "execution_count": 19,
   "id": "26b8b904",
   "metadata": {},
   "outputs": [
    {
     "name": "stderr",
     "output_type": "stream",
     "text": [
      "100%|███████████████████████████████████████████████████████████████████████████████████████████████████████████████████████████████████| 3253/3253 [00:09<00:00, 342.38it/s]\n"
     ]
    }
   ],
   "source": [
    "text_embeds = []\n",
    "for item in tqdm(items):\n",
    "    text_embeds.append(\n",
    "        nlp(item[\"title\"]).vector\n",
    "    )"
   ]
  },
  {
   "cell_type": "code",
   "execution_count": 20,
   "id": "af1158b6",
   "metadata": {},
   "outputs": [],
   "source": [
    "text_embeds_np = np.array(text_embeds)"
   ]
  },
  {
   "cell_type": "code",
   "execution_count": 21,
   "id": "4db382f8",
   "metadata": {},
   "outputs": [
    {
     "data": {
      "text/plain": [
       "(3253, 96)"
      ]
     },
     "execution_count": 21,
     "metadata": {},
     "output_type": "execute_result"
    }
   ],
   "source": [
    "text_embeds_np.shape"
   ]
  },
  {
   "cell_type": "code",
   "execution_count": 22,
   "id": "9b71a171",
   "metadata": {},
   "outputs": [],
   "source": [
    "with open(\"../data/text_embeds.npy\", \"wb\") as text_npy:\n",
    "    np.save(text_npy, text_embeds_np)"
   ]
  },
  {
   "cell_type": "code",
   "execution_count": null,
   "id": "beb794ae",
   "metadata": {},
   "outputs": [],
   "source": []
  }
 ],
 "metadata": {
  "kernelspec": {
   "display_name": "cs1951-final-project",
   "language": "python",
   "name": "cs1951-final-project"
  },
  "language_info": {
   "codemirror_mode": {
    "name": "ipython",
    "version": 3
   },
   "file_extension": ".py",
   "mimetype": "text/x-python",
   "name": "python",
   "nbconvert_exporter": "python",
   "pygments_lexer": "ipython3",
   "version": "3.7.9"
  }
 },
 "nbformat": 4,
 "nbformat_minor": 5
}
