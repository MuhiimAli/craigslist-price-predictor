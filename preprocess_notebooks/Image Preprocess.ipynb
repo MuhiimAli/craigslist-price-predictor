{
 "cells": [
  {
   "cell_type": "code",
   "execution_count": 4,
   "id": "4df0e0ce",
   "metadata": {},
   "outputs": [],
   "source": [
    "#This class creates the image features\n",
    "import requests\n",
    "from PIL import Image\n",
    "from io import BytesIO\n",
    "import numpy as np\n",
    "from tensorflow.keras.applications import ResNet50\n",
    "from tensorflow.keras.preprocessing import image\n",
    "from tensorflow.keras.applications.resnet50 import preprocess_input\n",
    "from tqdm import tqdm\n",
    "import json"
   ]
  },
  {
   "cell_type": "code",
   "execution_count": 5,
   "id": "ab390f0e",
   "metadata": {},
   "outputs": [
    {
     "name": "stderr",
     "output_type": "stream",
     "text": [
      "Processing images: 100%|██████████| 3253/3253 [16:16<00:00,  3.33it/s]\n"
     ]
    },
    {
     "name": "stdout",
     "output_type": "stream",
     "text": [
      "Features shape: (3253, 2048)\n"
     ]
    }
   ],
   "source": [
    "import tensorflow as tf\n",
    "# Configure GPU\n",
    "physical_devices = tf.config.list_physical_devices('GPU')\n",
    "if physical_devices:\n",
    "    tf.config.experimental.set_memory_growth(physical_devices[0], True)\n",
    "\n",
    "import requests\n",
    "from PIL import Image\n",
    "from io import BytesIO\n",
    "import numpy as np\n",
    "from tensorflow.keras.applications import ResNet50\n",
    "from tensorflow.keras.preprocessing import image\n",
    "from tensorflow.keras.applications.resnet50 import preprocess_input\n",
    "from tqdm import tqdm\n",
    "\n",
    "def download_and_extract_image_features(items):\n",
    "    # Load ResNet50 model\n",
    "    model = ResNet50(weights='imagenet', include_top=False, pooling='avg')\n",
    "    \n",
    "    # Initialize features list with zeros for all items\n",
    "    features = [np.zeros(2048) for _ in range(len(items))]\n",
    "    \n",
    "    for idx, item in tqdm(enumerate(items), total=len(items), desc=\"Processing images\"):\n",
    "        if 'images' in item and item['images']:\n",
    "            image_url = item['images'][0]  # Get first image URL\n",
    "            try:\n",
    "                # Download image\n",
    "                response = requests.get(image_url, timeout=10)\n",
    "                if response.status_code == 200:\n",
    "                    # Open image\n",
    "                    img = Image.open(BytesIO(response.content))\n",
    "                    \n",
    "                    # Preprocess the image\n",
    "                    img = img.resize((224, 224))  # ResNet50 expected size\n",
    "                    img = img.convert('RGB')\n",
    "                    x = image.img_to_array(img)\n",
    "                    x = np.expand_dims(x, axis=0)\n",
    "                    x = preprocess_input(x)\n",
    "                    \n",
    "                    # Extract features\n",
    "                    feat = model.predict(x, verbose=0)\n",
    "                    features[idx] = feat.flatten()  # Store at correct index\n",
    "            except Exception as e:\n",
    "                print(f\"Error downloading or processing image {idx}: {str(e)}\")\n",
    "                # No need to append zeros as the list is pre-initialized\n",
    "    \n",
    "    # Convert to numpy array\n",
    "    features = np.array(features)\n",
    "    print(\"Features shape:\", features.shape)\n",
    "    \n",
    "    # Save features\n",
    "    with open(\"../data/res_image_features.npy\", \"wb\") as f:\n",
    "        np.save(f, features)\n",
    "    \n",
    "    return features\n",
    "\n",
    "# Example usage:\n",
    "with open(\"../data/item_with_images.json\", \"r\") as items_json:\n",
    "    items = json.load(items_json)\n",
    "features = download_and_extract_image_features(items)"
   ]
  },
  {
   "cell_type": "code",
   "execution_count": 6,
   "id": "588227f0",
   "metadata": {},
   "outputs": [
    {
     "data": {
      "text/plain": [
       "3253"
      ]
     },
     "execution_count": 6,
     "metadata": {},
     "output_type": "execute_result"
    }
   ],
   "source": [
    "with open(\"../data/item_with_images.json\", \"r\") as items_json:\n",
    "    items = json.load(items_json)\n",
    "len(items)"
   ]
  }
 ],
 "metadata": {
  "kernelspec": {
   "display_name": "SREP_env",
   "language": "python",
   "name": "srep_env"
  },
  "language_info": {
   "codemirror_mode": {
    "name": "ipython",
    "version": 3
   },
   "file_extension": ".py",
   "mimetype": "text/x-python",
   "name": "python",
   "nbconvert_exporter": "python",
   "pygments_lexer": "ipython3",
   "version": "3.9.16"
  }
 },
 "nbformat": 4,
 "nbformat_minor": 5
}
