{
 "cells": [
  {
   "cell_type": "code",
   "execution_count": 1,
   "id": "8dbbf45f",
   "metadata": {},
   "outputs": [],
   "source": [
    "import json\n",
    "import numpy as np"
   ]
  },
  {
   "cell_type": "code",
   "execution_count": 2,
   "id": "fe7e5a3c",
   "metadata": {},
   "outputs": [],
   "source": [
    "with open(\"../data_deliverable/data/preprocessed_items.json\", \"r\") as items_json:\n",
    "    items = json.load(items_json)"
   ]
  },
  {
   "cell_type": "code",
   "execution_count": 3,
   "id": "8c16fa51",
   "metadata": {},
   "outputs": [
    {
     "data": {
      "text/plain": [
       "3254"
      ]
     },
     "execution_count": 3,
     "metadata": {},
     "output_type": "execute_result"
    }
   ],
   "source": [
    "len(items)"
   ]
  },
  {
   "cell_type": "code",
   "execution_count": 11,
   "id": "dd0fd136",
   "metadata": {},
   "outputs": [],
   "source": [
    "sample = np.random.choice(items, size = (100, ), replace = False)"
   ]
  },
  {
   "cell_type": "code",
   "execution_count": 14,
   "id": "fee9eff4",
   "metadata": {},
   "outputs": [
    {
     "data": {
      "text/plain": [
       "{'title': \"men's 'under armour' t-shirt  (size l.)\",\n",
       " 'metadata': '3/12·johnston',\n",
       " 'price': 10.0,\n",
       " 'link': 'https://providence.craigslist.org/clo/d/johnston-mens-under-armour-shirt-size/7717008432.html',\n",
       " 'images': ['https://images.craigslist.org/00s0s_aSy9b8I4Aiw_0t20CI_300x300.jpg'],\n",
       " 'num_images': 1,\n",
       " 'category': 'clo',\n",
       " 'metadata_length': 2,\n",
       " 'date': '3/12',\n",
       " 'location': 'johnston',\n",
       " 'mileage': None}"
      ]
     },
     "execution_count": 14,
     "metadata": {},
     "output_type": "execute_result"
    }
   ],
   "source": [
    "sample[0]"
   ]
  },
  {
   "cell_type": "code",
   "execution_count": null,
   "id": "30023233",
   "metadata": {},
   "outputs": [],
   "source": []
  },
  {
   "cell_type": "code",
   "execution_count": null,
   "id": "e2462f81",
   "metadata": {},
   "outputs": [],
   "source": []
  },
  {
   "cell_type": "code",
   "execution_count": null,
   "id": "41a1f03d",
   "metadata": {},
   "outputs": [],
   "source": []
  }
 ],
 "metadata": {
  "kernelspec": {
   "display_name": "cs1951-final-project",
   "language": "python",
   "name": "cs1951-final-project"
  },
  "language_info": {
   "codemirror_mode": {
    "name": "ipython",
    "version": 3
   },
   "file_extension": ".py",
   "mimetype": "text/x-python",
   "name": "python",
   "nbconvert_exporter": "python",
   "pygments_lexer": "ipython3",
   "version": "3.7.9"
  }
 },
 "nbformat": 4,
 "nbformat_minor": 5
}
