{
 "cells": [
  {
   "cell_type": "code",
   "execution_count": 6,
   "id": "979d83ea",
   "metadata": {},
   "outputs": [],
   "source": [
    "import json\n",
    "import pandas as pd"
   ]
  },
  {
   "cell_type": "code",
   "execution_count": 2,
   "id": "bbee0ed1",
   "metadata": {},
   "outputs": [],
   "source": [
    "with open(\"../data/items.json\", \"r\") as items_json:\n",
    "    items = json.load(items_json)"
   ]
  },
  {
   "cell_type": "code",
   "execution_count": 5,
   "id": "0d95d2d6",
   "metadata": {},
   "outputs": [],
   "source": [
    "for i in range(len(items)):\n",
    "    items[i][\"metadata_length\"] = len(items[i][\"metadata\"].split(\"\\u00b7\"))"
   ]
  },
  {
   "cell_type": "code",
   "execution_count": 10,
   "id": "cc36e1d9",
   "metadata": {},
   "outputs": [],
   "source": [
    "items_df = pd.DataFrame(items)"
   ]
  },
  {
   "cell_type": "code",
   "execution_count": 13,
   "id": "17410343",
   "metadata": {},
   "outputs": [
    {
     "data": {
      "text/plain": [
       "<AxesSubplot:xlabel='category'>"
      ]
     },
     "execution_count": 13,
     "metadata": {},
     "output_type": "execute_result"
    },
    {
     "data": {
      "image/png": "[encoded data removed]",
      "text/plain": [
       "<Figure size 640x480 with 1 Axes>"
      ]
     },
     "metadata": {},
     "output_type": "display_data"
    }
   ],
   "source": [
    "items_df.groupby(\"category\")[\"metadata_length\"].mean().plot.bar()"
   ]
  },
  {
   "cell_type": "code",
   "execution_count": 14,
   "id": "9ecbb612",
   "metadata": {},
   "outputs": [],
   "source": [
    "cat2metadata_length = items_df.groupby(\"category\")[\"metadata_length\"].mean()"
   ]
  },
  {
   "cell_type": "code",
   "execution_count": 28,
   "id": "1623d59c",
   "metadata": {},
   "outputs": [],
   "source": [
    "cats = cat2metadata_length[cat2metadata_length != 2.0].index.values"
   ]
  },
  {
   "cell_type": "code",
   "execution_count": 19,
   "id": "f0911554",
   "metadata": {},
   "outputs": [],
   "source": [
    "multilength_class_items = items_df[items_df[\"category\"].isin(cat2metadata_length[cat2metadata_length != 2.0].index)]"
   ]
  },
  {
   "cell_type": "code",
   "execution_count": 34,
   "id": "aef7750b",
   "metadata": {},
   "outputs": [
    {
     "data": {
      "text/html": [
       "<div>\n",
       "<style scoped>\n",
       "    .dataframe tbody tr th:only-of-type {\n",
       "        vertical-align: middle;\n",
       "    }\n",
       "\n",
       "    .dataframe tbody tr th {\n",
       "        vertical-align: top;\n",
       "    }\n",
       "\n",
       "    .dataframe thead th {\n",
       "        text-align: right;\n",
       "    }\n",
       "</style>\n",
       "<table border=\"1\" class=\"dataframe\">\n",
       "  <thead>\n",
       "    <tr style=\"text-align: right;\">\n",
       "      <th></th>\n",
       "      <th>title</th>\n",
       "      <th>metadata</th>\n",
       "      <th>price</th>\n",
       "      <th>link</th>\n",
       "      <th>images</th>\n",
       "      <th>num_images</th>\n",
       "      <th>category</th>\n",
       "      <th>metadata_length</th>\n",
       "    </tr>\n",
       "  </thead>\n",
       "  <tbody>\n",
       "    <tr>\n",
       "      <th>774</th>\n",
       "      <td>2019 ford transit connect xl cargo van, one owner</td>\n",
       "      <td>7h ago·136k mi</td>\n",
       "      <td>14600.0</td>\n",
       "      <td>https://providence.craigslist.org/ctd/d/centra...</td>\n",
       "      <td>[https://images.craigslist.org/00O0O_cAEmePNJa...</td>\n",
       "      <td>1</td>\n",
       "      <td>ctd</td>\n",
       "      <td>2</td>\n",
       "    </tr>\n",
       "    <tr>\n",
       "      <th>776</th>\n",
       "      <td>2019 ford transit connect xlt cargo van w/ bac...</td>\n",
       "      <td>7h ago·159k mi</td>\n",
       "      <td>13600.0</td>\n",
       "      <td>https://providence.craigslist.org/ctd/d/centra...</td>\n",
       "      <td>[https://images.craigslist.org/01616_lbhfJWsVx...</td>\n",
       "      <td>1</td>\n",
       "      <td>ctd</td>\n",
       "      <td>2</td>\n",
       "    </tr>\n",
       "    <tr>\n",
       "      <th>787</th>\n",
       "      <td>2017 ford focus sel w/ warranty &amp; new inspecti...</td>\n",
       "      <td>7h ago·107k mi</td>\n",
       "      <td>8900.0</td>\n",
       "      <td>https://providence.craigslist.org/ctd/d/centra...</td>\n",
       "      <td>[https://images.craigslist.org/00b0b_kIObpviMg...</td>\n",
       "      <td>1</td>\n",
       "      <td>ctd</td>\n",
       "      <td>2</td>\n",
       "    </tr>\n",
       "    <tr>\n",
       "      <th>800</th>\n",
       "      <td>2016 nissan altima 2.5 s w/ warranty &amp; new ins...</td>\n",
       "      <td>7h ago·111k mi</td>\n",
       "      <td>9600.0</td>\n",
       "      <td>https://providence.craigslist.org/ctd/d/centra...</td>\n",
       "      <td>[https://images.craigslist.org/00M0M_5RW4ZFCb4...</td>\n",
       "      <td>1</td>\n",
       "      <td>ctd</td>\n",
       "      <td>2</td>\n",
       "    </tr>\n",
       "    <tr>\n",
       "      <th>803</th>\n",
       "      <td>2016 nissan rogue s awd w/ new inspección stic...</td>\n",
       "      <td>8h ago·118k mi</td>\n",
       "      <td>10900.0</td>\n",
       "      <td>https://providence.craigslist.org/ctd/d/centra...</td>\n",
       "      <td>[https://images.craigslist.org/00o0o_3pNB468H1...</td>\n",
       "      <td>1</td>\n",
       "      <td>ctd</td>\n",
       "      <td>2</td>\n",
       "    </tr>\n",
       "    <tr>\n",
       "      <th>809</th>\n",
       "      <td>2012 mazda3 i sport 5-speed manual w/ new insp...</td>\n",
       "      <td>8h ago·161k mi</td>\n",
       "      <td>5900.0</td>\n",
       "      <td>https://providence.craigslist.org/ctd/d/centra...</td>\n",
       "      <td>[https://images.craigslist.org/00s0s_kUy1PwxcN...</td>\n",
       "      <td>1</td>\n",
       "      <td>ctd</td>\n",
       "      <td>2</td>\n",
       "    </tr>\n",
       "    <tr>\n",
       "      <th>814</th>\n",
       "      <td>2011 jeep wrangler sport 4x4 w/ clean title &amp; ...</td>\n",
       "      <td>8h ago·168k mi</td>\n",
       "      <td>10900.0</td>\n",
       "      <td>https://providence.craigslist.org/ctd/d/centra...</td>\n",
       "      <td>[https://images.craigslist.org/00000_bg6XWRoFF...</td>\n",
       "      <td>1</td>\n",
       "      <td>ctd</td>\n",
       "      <td>2</td>\n",
       "    </tr>\n",
       "    <tr>\n",
       "      <th>820</th>\n",
       "      <td>**mazda 3**</td>\n",
       "      <td>8h ago·145k mi</td>\n",
       "      <td>3900.0</td>\n",
       "      <td>https://providence.craigslist.org/cto/d/east-p...</td>\n",
       "      <td>[https://images.craigslist.org/00Q0Q_l7kwDXGjG...</td>\n",
       "      <td>1</td>\n",
       "      <td>cto</td>\n",
       "      <td>2</td>\n",
       "    </tr>\n",
       "    <tr>\n",
       "      <th>1648</th>\n",
       "      <td>2000 chevrolet corvette convertible</td>\n",
       "      <td>3/12·143k mi</td>\n",
       "      <td>12500.0</td>\n",
       "      <td>https://providence.craigslist.org/cto/d/glenda...</td>\n",
       "      <td>[https://images.craigslist.org/00c0c_bJuTc1uxd...</td>\n",
       "      <td>2</td>\n",
       "      <td>cto</td>\n",
       "      <td>2</td>\n",
       "    </tr>\n",
       "    <tr>\n",
       "      <th>1707</th>\n",
       "      <td>2003 honda 300 ex, low hrs, no time to ride, r...</td>\n",
       "      <td>3/12·barrington</td>\n",
       "      <td>2400.0</td>\n",
       "      <td>https://providence.craigslist.org/snw/d/rivers...</td>\n",
       "      <td>[https://images.craigslist.org/00n0n_i6afC0UJX...</td>\n",
       "      <td>1</td>\n",
       "      <td>snw</td>\n",
       "      <td>2</td>\n",
       "    </tr>\n",
       "    <tr>\n",
       "      <th>1872</th>\n",
       "      <td>for sale 1998 jeep wrangler tj</td>\n",
       "      <td>3/12·190k mi</td>\n",
       "      <td>7500.0</td>\n",
       "      <td>https://providence.craigslist.org/cto/d/warwic...</td>\n",
       "      <td>[https://images.craigslist.org/00808_it8svhMV4...</td>\n",
       "      <td>1</td>\n",
       "      <td>cto</td>\n",
       "      <td>2</td>\n",
       "    </tr>\n",
       "    <tr>\n",
       "      <th>2242</th>\n",
       "      <td>1999 ford f350</td>\n",
       "      <td>3/12·160k mi</td>\n",
       "      <td>4500.0</td>\n",
       "      <td>https://providence.craigslist.org/cto/d/west-w...</td>\n",
       "      <td>[https://images.craigslist.org/00303_7CNwuKhda...</td>\n",
       "      <td>1</td>\n",
       "      <td>cto</td>\n",
       "      <td>2</td>\n",
       "    </tr>\n",
       "    <tr>\n",
       "      <th>3217</th>\n",
       "      <td>2011 jeep compass 4x4 great/reliable car $6,000!</td>\n",
       "      <td>3/11·130k mi</td>\n",
       "      <td>6000.0</td>\n",
       "      <td>https://providence.craigslist.org/cto/d/west-w...</td>\n",
       "      <td>[https://images.craigslist.org/00Q0Q_9C8WVA0Kx...</td>\n",
       "      <td>1</td>\n",
       "      <td>cto</td>\n",
       "      <td>2</td>\n",
       "    </tr>\n",
       "  </tbody>\n",
       "</table>\n",
       "</div>"
      ],
      "text/plain": [
       "                                                  title         metadata  \\\n",
       "774   2019 ford transit connect xl cargo van, one owner   7h ago·136k mi   \n",
       "776   2019 ford transit connect xlt cargo van w/ bac...   7h ago·159k mi   \n",
       "787   2017 ford focus sel w/ warranty & new inspecti...   7h ago·107k mi   \n",
       "800   2016 nissan altima 2.5 s w/ warranty & new ins...   7h ago·111k mi   \n",
       "803   2016 nissan rogue s awd w/ new inspección stic...   8h ago·118k mi   \n",
       "809   2012 mazda3 i sport 5-speed manual w/ new insp...   8h ago·161k mi   \n",
       "814   2011 jeep wrangler sport 4x4 w/ clean title & ...   8h ago·168k mi   \n",
       "820                                         **mazda 3**   8h ago·145k mi   \n",
       "1648                2000 chevrolet corvette convertible     3/12·143k mi   \n",
       "1707  2003 honda 300 ex, low hrs, no time to ride, r...  3/12·barrington   \n",
       "1872                     for sale 1998 jeep wrangler tj     3/12·190k mi   \n",
       "2242                                     1999 ford f350     3/12·160k mi   \n",
       "3217   2011 jeep compass 4x4 great/reliable car $6,000!     3/11·130k mi   \n",
       "\n",
       "        price                                               link  \\\n",
       "774   14600.0  https://providence.craigslist.org/ctd/d/centra...   \n",
       "776   13600.0  https://providence.craigslist.org/ctd/d/centra...   \n",
       "787    8900.0  https://providence.craigslist.org/ctd/d/centra...   \n",
       "800    9600.0  https://providence.craigslist.org/ctd/d/centra...   \n",
       "803   10900.0  https://providence.craigslist.org/ctd/d/centra...   \n",
       "809    5900.0  https://providence.craigslist.org/ctd/d/centra...   \n",
       "814   10900.0  https://providence.craigslist.org/ctd/d/centra...   \n",
       "820    3900.0  https://providence.craigslist.org/cto/d/east-p...   \n",
       "1648  12500.0  https://providence.craigslist.org/cto/d/glenda...   \n",
       "1707   2400.0  https://providence.craigslist.org/snw/d/rivers...   \n",
       "1872   7500.0  https://providence.craigslist.org/cto/d/warwic...   \n",
       "2242   4500.0  https://providence.craigslist.org/cto/d/west-w...   \n",
       "3217   6000.0  https://providence.craigslist.org/cto/d/west-w...   \n",
       "\n",
       "                                                 images  num_images category  \\\n",
       "774   [https://images.craigslist.org/00O0O_cAEmePNJa...           1      ctd   \n",
       "776   [https://images.craigslist.org/01616_lbhfJWsVx...           1      ctd   \n",
       "787   [https://images.craigslist.org/00b0b_kIObpviMg...           1      ctd   \n",
       "800   [https://images.craigslist.org/00M0M_5RW4ZFCb4...           1      ctd   \n",
       "803   [https://images.craigslist.org/00o0o_3pNB468H1...           1      ctd   \n",
       "809   [https://images.craigslist.org/00s0s_kUy1PwxcN...           1      ctd   \n",
       "814   [https://images.craigslist.org/00000_bg6XWRoFF...           1      ctd   \n",
       "820   [https://images.craigslist.org/00Q0Q_l7kwDXGjG...           1      cto   \n",
       "1648  [https://images.craigslist.org/00c0c_bJuTc1uxd...           2      cto   \n",
       "1707  [https://images.craigslist.org/00n0n_i6afC0UJX...           1      snw   \n",
       "1872  [https://images.craigslist.org/00808_it8svhMV4...           1      cto   \n",
       "2242  [https://images.craigslist.org/00303_7CNwuKhda...           1      cto   \n",
       "3217  [https://images.craigslist.org/00Q0Q_9C8WVA0Kx...           1      cto   \n",
       "\n",
       "      metadata_length  \n",
       "774                 2  \n",
       "776                 2  \n",
       "787                 2  \n",
       "800                 2  \n",
       "803                 2  \n",
       "809                 2  \n",
       "814                 2  \n",
       "820                 2  \n",
       "1648                2  \n",
       "1707                2  \n",
       "1872                2  \n",
       "2242                2  \n",
       "3217                2  "
      ]
     },
     "execution_count": 34,
     "metadata": {},
     "output_type": "execute_result"
    }
   ],
   "source": [
    "multilength_class_items[multilength_class_items[\"metadata_length\"] == 2]"
   ]
  },
  {
   "cell_type": "code",
   "execution_count": 33,
   "id": "7f0e9da6",
   "metadata": {},
   "outputs": [
    {
     "data": {
      "text/html": [
       "<div>\n",
       "<style scoped>\n",
       "    .dataframe tbody tr th:only-of-type {\n",
       "        vertical-align: middle;\n",
       "    }\n",
       "\n",
       "    .dataframe tbody tr th {\n",
       "        vertical-align: top;\n",
       "    }\n",
       "\n",
       "    .dataframe thead th {\n",
       "        text-align: right;\n",
       "    }\n",
       "</style>\n",
       "<table border=\"1\" class=\"dataframe\">\n",
       "  <thead>\n",
       "    <tr style=\"text-align: right;\">\n",
       "      <th></th>\n",
       "      <th>title</th>\n",
       "      <th>metadata</th>\n",
       "      <th>price</th>\n",
       "      <th>link</th>\n",
       "      <th>images</th>\n",
       "      <th>num_images</th>\n",
       "      <th>category</th>\n",
       "      <th>metadata_length</th>\n",
       "    </tr>\n",
       "  </thead>\n",
       "  <tbody>\n",
       "  </tbody>\n",
       "</table>\n",
       "</div>"
      ],
      "text/plain": [
       "Empty DataFrame\n",
       "Columns: [title, metadata, price, link, images, num_images, category, metadata_length]\n",
       "Index: []"
      ]
     },
     "execution_count": 33,
     "metadata": {},
     "output_type": "execute_result"
    }
   ],
   "source": [
    "items_df[items_df[\"metadata_length\"] == 1]"
   ]
  },
  {
   "cell_type": "code",
   "execution_count": 35,
   "id": "01e51a31",
   "metadata": {},
   "outputs": [],
   "source": [
    "def data_clean(item):\n",
    "    cat = item[\"category\"]\n",
    "    metadata = item[\"metadata\"].strip().split(\"\\u00b7\")\n",
    "    if cat in cats:\n",
    "        # Vehicles\n",
    "        if len(metadata) == 3:\n",
    "            date, mileage, location = metadata\n",
    "            item[\"date\"] = date\n",
    "            item[\"mileage\"] = mileage\n",
    "            item[\"location\"] = location\n",
    "        else:\n",
    "            date, mileage = metadata\n",
    "            item[\"date\"] = date\n",
    "            if mileage == \"barrington\":\n",
    "                # Exception\n",
    "                item['location'] = mileage\n",
    "                item[\"mileage\"] = None\n",
    "            else:\n",
    "                item[\"mileage\"] = mileage\n",
    "                item[\"location\"] = None\n",
    "    else:\n",
    "        # Non-vehicles\n",
    "        date, location = metadata\n",
    "        item[\"date\"] = date\n",
    "        item[\"location\"] = location\n",
    "        item[\"mileage\"] = None\n",
    "    \n",
    "    return item"
   ]
  },
  {
   "cell_type": "code",
   "execution_count": 36,
   "id": "29690ba6",
   "metadata": {},
   "outputs": [],
   "source": [
    "newItems = []\n",
    "for i in range(len(items)):\n",
    "    newItems.append(data_clean(items[i]))"
   ]
  },
  {
   "cell_type": "code",
   "execution_count": 37,
   "id": "a04411dd",
   "metadata": {},
   "outputs": [
    {
     "data": {
      "text/plain": [
       "{'title': 'kitchenaid measuring cups & spoons plastic',\n",
       " 'metadata': '7 mins ago·westerly',\n",
       " 'price': 5.0,\n",
       " 'link': 'https://providence.craigslist.org/hsh/d/westerly-kitchenaid-measuring-cups/7726876655.html',\n",
       " 'images': ['https://images.craigslist.org/00C0C_eGe6uOxr3zC_07K0ak_300x300.jpg'],\n",
       " 'num_images': 1,\n",
       " 'category': 'hsh',\n",
       " 'metadata_length': 2,\n",
       " 'date': '7 mins ago',\n",
       " 'location': 'westerly',\n",
       " 'mileage': None}"
      ]
     },
     "execution_count": 37,
     "metadata": {},
     "output_type": "execute_result"
    }
   ],
   "source": [
    "newItems[0]"
   ]
  },
  {
   "cell_type": "code",
   "execution_count": 51,
   "id": "a1c2fdd9",
   "metadata": {},
   "outputs": [
    {
     "data": {
      "text/plain": [
       "850                 8h ago·barrington\n",
       "851                 8h ago·barrington\n",
       "852                 8h ago·providence\n",
       "853             8h ago·east greenwich\n",
       "854         8h ago·134k mi·providence\n",
       "855              8h ago·glocester, ri\n",
       "856               8h ago·glocester,ri\n",
       "857              8h ago·glocester, ri\n",
       "858              8h ago·glocester, ri\n",
       "859              8h ago·glocester, ri\n",
       "860                   8h ago·cranston\n",
       "861              8h ago·glocester, ri\n",
       "862              8h ago·glocester, ri\n",
       "863              8h ago·glocester, ri\n",
       "864          8h ago·140k mi·attleboro\n",
       "865              8h ago·glocester, ri\n",
       "866              8h ago·glocester, ri\n",
       "867              8h ago·glocester, ri\n",
       "868              8h ago·glocester, ri\n",
       "869                     3/13·coventry\n",
       "870                     3/13·coventry\n",
       "871                     3/13·coventry\n",
       "872                     3/13·coventry\n",
       "873                     3/13·coventry\n",
       "874                     3/13·johnston\n",
       "875                       3/13·exeter\n",
       "876               3/13·east greenwich\n",
       "877                 3/13·westerly, ri\n",
       "878                             3/13·\n",
       "879                             3/13·\n",
       "880                             3/13·\n",
       "881                             3/13·\n",
       "882                             3/13·\n",
       "883                    3/13·wakefield\n",
       "884               3/13·little compton\n",
       "885                    3/13·wakefield\n",
       "886               3/13·attleboro mass\n",
       "887                             3/13·\n",
       "888                             3/13·\n",
       "889                             3/13·\n",
       "890                             3/13·\n",
       "891                             3/13·\n",
       "892                   3/13·smithfield\n",
       "893     3/13·90k mi·happycamperri.com\n",
       "894    3/13·141k mi·happycamperri.com\n",
       "895    3/13·102k mi·happycamperri.com\n",
       "896                      3/13·foxboro\n",
       "897                 3/13·somerset, ma\n",
       "898                 3/13·somerset, ma\n",
       "899                 3/13·somerset, ma\n",
       "Name: metadata, dtype: object"
      ]
     },
     "execution_count": 51,
     "metadata": {},
     "output_type": "execute_result"
    }
   ],
   "source": [
    "items_df[\"metadata\"].head(900).tail(50)"
   ]
  },
  {
   "cell_type": "code",
   "execution_count": 54,
   "id": "89539d84",
   "metadata": {},
   "outputs": [],
   "source": [
    "def preprocess_date(s: str):\n",
    "    if (s is not None) and (\"/\" in s):\n",
    "        return s\n",
    "    return \"3/14\""
   ]
  },
  {
   "cell_type": "code",
   "execution_count": 55,
   "id": "fc2d6e1c",
   "metadata": {},
   "outputs": [],
   "source": [
    "for i in range(len(newItems)):\n",
    "    newItems[i][\"date\"] = preprocess_date(newItems[i][\"date\"])"
   ]
  },
  {
   "cell_type": "code",
   "execution_count": 57,
   "id": "40c43453",
   "metadata": {},
   "outputs": [
    {
     "data": {
      "text/plain": [
       "{'title': '2024 rawmaxx 7x14 14k ramps dump trailer',\n",
       " 'metadata': '3/11·cm truck & trailer sales llc',\n",
       " 'price': 10495.0,\n",
       " 'link': 'https://providence.craigslist.org/trb/d/chichester-2024-rawmaxx-7x14-14k-ramps/7726231047.html',\n",
       " 'images': ['https://images.craigslist.org/00e0e_juAS8puBLHY_0cU09G_300x300.jpg'],\n",
       " 'num_images': 1,\n",
       " 'category': 'trb',\n",
       " 'metadata_length': 2,\n",
       " 'date': '3/11',\n",
       " 'location': 'cm truck & trailer sales llc',\n",
       " 'mileage': None}"
      ]
     },
     "execution_count": 57,
     "metadata": {},
     "output_type": "execute_result"
    }
   ],
   "source": [
    "newItems[-1]"
   ]
  },
  {
   "cell_type": "code",
   "execution_count": 58,
   "id": "563b02a3",
   "metadata": {},
   "outputs": [],
   "source": [
    "with open(\"../data/preprocessed_items.json\", \"w\") as preprocessed_item_json:\n",
    "    json.dump(newItems, preprocessed_item_json)"
   ]
  },
  {
   "cell_type": "code",
   "execution_count": 59,
   "id": "c72322b0",
   "metadata": {},
   "outputs": [
    {
     "data": {
      "text/plain": [
       "3254"
      ]
     },
     "execution_count": 59,
     "metadata": {},
     "output_type": "execute_result"
    }
   ],
   "source": [
    "len(newItems)"
   ]
  },
  {
   "cell_type": "code",
   "execution_count": null,
   "id": "c931359e",
   "metadata": {},
   "outputs": [],
   "source": []
  }
 ],
 "metadata": {
  "kernelspec": {
   "display_name": "cs1951-final-project",
   "language": "python",
   "name": "cs1951-final-project"
  },
  "language_info": {
   "codemirror_mode": {
    "name": "ipython",
    "version": 3
   },
   "file_extension": ".py",
   "mimetype": "text/x-python",
   "name": "python",
   "nbconvert_exporter": "python",
   "pygments_lexer": "ipython3",
   "version": "3.7.9"
  }
 },
 "nbformat": 4,
 "nbformat_minor": 5
}
