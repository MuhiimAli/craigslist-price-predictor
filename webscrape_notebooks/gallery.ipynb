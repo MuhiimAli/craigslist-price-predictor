{
 "cells": [
  {
   "cell_type": "code",
   "execution_count": 19,
   "metadata": {},
   "outputs": [],
   "source": [
    "import requests\n",
    "import json\n",
    "from bs4 import BeautifulSoup\n",
    "from tqdm import tqdm"
   ]
  },
  {
   "cell_type": "code",
   "execution_count": 20,
   "metadata": {},
   "outputs": [],
   "source": [
    "def get_details(result):\n",
    "    try:\n",
    "        title = result.find(\"div\", class_=\"title\").text.strip().lower()\n",
    "        location = result.find(\"div\", class_=\"location\")\n",
    "        price = float(result.find(\"div\", class_=\"price\").text.strip(\"$\").replace(\",\", \"\"))\n",
    "        link = result.find(\"a\")[\"href\"]\n",
    "        return {\n",
    "            \"title\": title,\n",
    "            \"location\": location if location is None else location.text.strip(),\n",
    "            \"price\": price,\n",
    "            \"link\": link\n",
    "        }\n",
    "    except:\n",
    "        print(result)\n",
    "        return None"
   ]
  },
  {
   "cell_type": "code",
   "execution_count": 21,
   "metadata": {},
   "outputs": [],
   "source": [
    "def get_page_results(url):\n",
    "    try:\n",
    "        r = requests.get(url)\n",
    "        soup = BeautifulSoup(r.text, \"html.parser\")\n",
    "        search_results = soup.find_all(\"li\", class_=\"cl-static-search-result\")\n",
    "        return list(map(get_details, search_results))\n",
    "    except Exception as e:\n",
    "        print(url)\n",
    "        print(str(e))\n",
    "        print()\n",
    "        None"
   ]
  },
  {
   "cell_type": "code",
   "execution_count": 22,
   "metadata": {},
   "outputs": [
    {
     "name": "stderr",
     "output_type": "stream",
     "text": [
      "  0%|          | 0/84 [00:00<?, ?it/s]"
     ]
    },
    {
     "name": "stderr",
     "output_type": "stream",
     "text": [
      "100%|██████████| 84/84 [00:47<00:00,  1.75it/s]\n"
     ]
    }
   ],
   "source": [
    "num_galleries = 84\n",
    "total_results = []\n",
    "for i in tqdm(range(num_galleries)):\n",
    "    url = f\"https://providence.craigslist.org/search/sss?purveyor=owner#search=1~gallery~{i}~0\"\n",
    "    page_results = get_page_results(url)\n",
    "    total_results.extend(page_results)"
   ]
  },
  {
   "cell_type": "code",
   "execution_count": 23,
   "metadata": {},
   "outputs": [
    {
     "data": {
      "text/plain": [
       "26376"
      ]
     },
     "execution_count": 23,
     "metadata": {},
     "output_type": "execute_result"
    }
   ],
   "source": [
    "len(total_results)"
   ]
  },
  {
   "cell_type": "code",
   "execution_count": 26,
   "metadata": {},
   "outputs": [
    {
     "data": {
      "text/plain": [
       "{'title': 'kittens for sale must go today located fall river ma',\n",
       " 'location': 'Fall river',\n",
       " 'price': 150.0,\n",
       " 'link': 'https://providence.craigslist.org/bab/d/tiverton-kittens-for-sale-must-go-today/7739956630.html'}"
      ]
     },
     "execution_count": 26,
     "metadata": {},
     "output_type": "execute_result"
    }
   ],
   "source": [
    "total_results[26375]"
   ]
  },
  {
   "cell_type": "code",
   "execution_count": 27,
   "metadata": {},
   "outputs": [],
   "source": [
    "with open(\"../data/gallery_providence.json\", \"w\") as gallery_json:\n",
    "    json.dump(total_results, gallery_json)"
   ]
  },
  {
   "cell_type": "code",
   "execution_count": null,
   "metadata": {},
   "outputs": [],
   "source": []
  }
 ],
 "metadata": {
  "kernelspec": {
   "display_name": "cs1951a_project_venv",
   "language": "python",
   "name": "python3"
  },
  "language_info": {
   "codemirror_mode": {
    "name": "ipython",
    "version": 3
   },
   "file_extension": ".py",
   "mimetype": "text/x-python",
   "name": "python",
   "nbconvert_exporter": "python",
   "pygments_lexer": "ipython3",
   "version": "3.11.2"
  }
 },
 "nbformat": 4,
 "nbformat_minor": 2
}
