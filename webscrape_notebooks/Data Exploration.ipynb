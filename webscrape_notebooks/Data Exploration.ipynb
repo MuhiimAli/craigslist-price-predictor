{
 "cells": [
  {
   "cell_type": "code",
   "execution_count": 53,
   "id": "5aa5f23e",
   "metadata": {},
   "outputs": [],
   "source": [
    "import json"
   ]
  },
  {
   "cell_type": "code",
   "execution_count": 54,
   "id": "86550982",
   "metadata": {},
   "outputs": [],
   "source": [
    "with open(\"../data/preprocessed_items.json\", \"r\") as items_json:\n",
    "    items = json.load(items_json)"
   ]
  },
  {
   "cell_type": "code",
   "execution_count": 55,
   "id": "707ac239",
   "metadata": {},
   "outputs": [
    {
     "data": {
      "text/plain": [
       "{'title': 'kitchenaid measuring cups & spoons plastic',\n",
       " 'metadata': '7 mins ago·westerly',\n",
       " 'price': 5.0,\n",
       " 'link': 'https://providence.craigslist.org/hsh/d/westerly-kitchenaid-measuring-cups/7726876655.html',\n",
       " 'images': ['https://images.craigslist.org/00C0C_eGe6uOxr3zC_07K0ak_300x300.jpg'],\n",
       " 'num_images': 1,\n",
       " 'category': 'hsh',\n",
       " 'metadata_length': 2,\n",
       " 'date': '3/14',\n",
       " 'location': 'westerly',\n",
       " 'mileage': None}"
      ]
     },
     "execution_count": 55,
     "metadata": {},
     "output_type": "execute_result"
    }
   ],
   "source": [
    "items[0]"
   ]
  },
  {
   "cell_type": "code",
   "execution_count": 56,
   "id": "805e8894",
   "metadata": {},
   "outputs": [],
   "source": [
    "title_lengths = [len(item[\"title\"]) for item in items]"
   ]
  },
  {
   "cell_type": "code",
   "execution_count": 57,
   "id": "4e4a9f83",
   "metadata": {},
   "outputs": [
    {
     "data": {
      "text/plain": [
       "80"
      ]
     },
     "execution_count": 57,
     "metadata": {},
     "output_type": "execute_result"
    }
   ],
   "source": [
    "max(title_lengths)"
   ]
  },
  {
   "cell_type": "code",
   "execution_count": 58,
   "id": "eb8f24c1",
   "metadata": {},
   "outputs": [
    {
     "data": {
      "text/plain": [
       "4"
      ]
     },
     "execution_count": 58,
     "metadata": {},
     "output_type": "execute_result"
    }
   ],
   "source": [
    "min(title_lengths)"
   ]
  },
  {
   "cell_type": "code",
   "execution_count": 59,
   "id": "4c648289",
   "metadata": {},
   "outputs": [],
   "source": [
    "import pandas as pd"
   ]
  },
  {
   "cell_type": "code",
   "execution_count": 60,
   "id": "2dd75d40",
   "metadata": {},
   "outputs": [],
   "source": [
    "df = pd.DataFrame(items)"
   ]
  },
  {
   "cell_type": "code",
   "execution_count": 61,
   "id": "58611355",
   "metadata": {},
   "outputs": [
    {
     "data": {
      "text/plain": [
       "<AxesSubplot:ylabel='Frequency'>"
      ]
     },
     "execution_count": 61,
     "metadata": {},
     "output_type": "execute_result"
    },
    {
     "data": {
      "image/png": "[encoded data removed]",
      "text/plain": [
       "<Figure size 640x480 with 1 Axes>"
      ]
     },
     "metadata": {},
     "output_type": "display_data"
    }
   ],
   "source": [
    "df[\"title\"].str.len().plot.hist()"
   ]
  },
  {
   "cell_type": "code",
   "execution_count": 62,
   "id": "ee993699",
   "metadata": {},
   "outputs": [
    {
     "data": {
      "text/plain": [
       "count    3254.000000\n",
       "mean       34.866011\n",
       "std        17.028281\n",
       "min         4.000000\n",
       "25%        21.000000\n",
       "50%        32.000000\n",
       "75%        46.000000\n",
       "max        80.000000\n",
       "Name: title, dtype: float64"
      ]
     },
     "execution_count": 62,
     "metadata": {},
     "output_type": "execute_result"
    }
   ],
   "source": [
    "df[\"title\"].str.len().describe()"
   ]
  },
  {
   "cell_type": "code",
   "execution_count": 63,
   "id": "4bfdf3af",
   "metadata": {},
   "outputs": [
    {
     "data": {
      "text/plain": [
       "(2937,)"
      ]
     },
     "execution_count": 63,
     "metadata": {},
     "output_type": "execute_result"
    }
   ],
   "source": [
    "df[\"title\"].unique().shape"
   ]
  },
  {
   "cell_type": "code",
   "execution_count": 64,
   "id": "4f11f8bb",
   "metadata": {},
   "outputs": [
    {
     "data": {
      "text/plain": [
       "count     3254.000000\n",
       "mean      1157.072219\n",
       "std       4529.237107\n",
       "min          1.000000\n",
       "25%         25.000000\n",
       "50%         75.000000\n",
       "75%        250.000000\n",
       "max      99999.000000\n",
       "Name: price, dtype: float64"
      ]
     },
     "execution_count": 64,
     "metadata": {},
     "output_type": "execute_result"
    }
   ],
   "source": [
    "df[\"price\"].describe()"
   ]
  },
  {
   "cell_type": "code",
   "execution_count": 65,
   "id": "234e88a7",
   "metadata": {},
   "outputs": [
    {
     "data": {
      "text/html": [
       "<div>\n",
       "<style scoped>\n",
       "    .dataframe tbody tr th:only-of-type {\n",
       "        vertical-align: middle;\n",
       "    }\n",
       "\n",
       "    .dataframe tbody tr th {\n",
       "        vertical-align: top;\n",
       "    }\n",
       "\n",
       "    .dataframe thead th {\n",
       "        text-align: right;\n",
       "    }\n",
       "</style>\n",
       "<table border=\"1\" class=\"dataframe\">\n",
       "  <thead>\n",
       "    <tr style=\"text-align: right;\">\n",
       "      <th></th>\n",
       "      <th>title</th>\n",
       "      <th>metadata</th>\n",
       "      <th>price</th>\n",
       "      <th>link</th>\n",
       "      <th>images</th>\n",
       "      <th>num_images</th>\n",
       "      <th>category</th>\n",
       "      <th>metadata_length</th>\n",
       "      <th>date</th>\n",
       "      <th>location</th>\n",
       "      <th>mileage</th>\n",
       "    </tr>\n",
       "  </thead>\n",
       "  <tbody>\n",
       "    <tr>\n",
       "      <th>2987</th>\n",
       "      <td>we buy old video games</td>\n",
       "      <td>3/12·</td>\n",
       "      <td>99999.0</td>\n",
       "      <td>https://providence.craigslist.org/wan/d/warwic...</td>\n",
       "      <td>[https://images.craigslist.org/00O0O_boyDqVPaq...</td>\n",
       "      <td>1</td>\n",
       "      <td>wan</td>\n",
       "      <td>2</td>\n",
       "      <td>3/12</td>\n",
       "      <td></td>\n",
       "      <td>NaN</td>\n",
       "    </tr>\n",
       "    <tr>\n",
       "      <th>1701</th>\n",
       "      <td>2009 porsche 911 turbo (4wd), gt2 (2wd) type 997</td>\n",
       "      <td>3/12·14k mi·+ seth wendling</td>\n",
       "      <td>61000.0</td>\n",
       "      <td>https://providence.craigslist.org/ctd/d/troy-2...</td>\n",
       "      <td>[https://images.craigslist.org/00V0V_4ntZgPKwQ...</td>\n",
       "      <td>1</td>\n",
       "      <td>ctd</td>\n",
       "      <td>3</td>\n",
       "      <td>3/12</td>\n",
       "      <td>+ seth wendling</td>\n",
       "      <td>14000.0</td>\n",
       "    </tr>\n",
       "    <tr>\n",
       "      <th>854</th>\n",
       "      <td>food truck</td>\n",
       "      <td>8h ago·134k mi·providence</td>\n",
       "      <td>59999.0</td>\n",
       "      <td>https://providence.craigslist.org/cto/d/provid...</td>\n",
       "      <td>[https://images.craigslist.org/00p0p_feOTk7e7J...</td>\n",
       "      <td>1</td>\n",
       "      <td>cto</td>\n",
       "      <td>3</td>\n",
       "      <td>3/14</td>\n",
       "      <td>providence</td>\n",
       "      <td>134000.0</td>\n",
       "    </tr>\n",
       "    <tr>\n",
       "      <th>852</th>\n",
       "      <td>food truck</td>\n",
       "      <td>8h ago·providence</td>\n",
       "      <td>59000.0</td>\n",
       "      <td>https://providence.craigslist.org/bfs/d/provid...</td>\n",
       "      <td>[https://images.craigslist.org/00808_5RxNYH7Bx...</td>\n",
       "      <td>1</td>\n",
       "      <td>bfs</td>\n",
       "      <td>2</td>\n",
       "      <td>3/14</td>\n",
       "      <td>providence</td>\n",
       "      <td>NaN</td>\n",
       "    </tr>\n",
       "    <tr>\n",
       "      <th>1668</th>\n",
       "      <td>2009 nissan gt-r</td>\n",
       "      <td>3/12·60k mi·+ seth wendling</td>\n",
       "      <td>46000.0</td>\n",
       "      <td>https://providence.craigslist.org/ctd/d/troy-2...</td>\n",
       "      <td>[https://images.craigslist.org/00e0e_4xR3aTQpa...</td>\n",
       "      <td>1</td>\n",
       "      <td>ctd</td>\n",
       "      <td>3</td>\n",
       "      <td>3/12</td>\n",
       "      <td>+ seth wendling</td>\n",
       "      <td>60000.0</td>\n",
       "    </tr>\n",
       "  </tbody>\n",
       "</table>\n",
       "</div>"
      ],
      "text/plain": [
       "                                                 title  \\\n",
       "2987                            we buy old video games   \n",
       "1701  2009 porsche 911 turbo (4wd), gt2 (2wd) type 997   \n",
       "854                                         food truck   \n",
       "852                                         food truck   \n",
       "1668                                  2009 nissan gt-r   \n",
       "\n",
       "                         metadata    price  \\\n",
       "2987                        3/12·  99999.0   \n",
       "1701  3/12·14k mi·+ seth wendling  61000.0   \n",
       "854     8h ago·134k mi·providence  59999.0   \n",
       "852             8h ago·providence  59000.0   \n",
       "1668  3/12·60k mi·+ seth wendling  46000.0   \n",
       "\n",
       "                                                   link  \\\n",
       "2987  https://providence.craigslist.org/wan/d/warwic...   \n",
       "1701  https://providence.craigslist.org/ctd/d/troy-2...   \n",
       "854   https://providence.craigslist.org/cto/d/provid...   \n",
       "852   https://providence.craigslist.org/bfs/d/provid...   \n",
       "1668  https://providence.craigslist.org/ctd/d/troy-2...   \n",
       "\n",
       "                                                 images  num_images category  \\\n",
       "2987  [https://images.craigslist.org/00O0O_boyDqVPaq...           1      wan   \n",
       "1701  [https://images.craigslist.org/00V0V_4ntZgPKwQ...           1      ctd   \n",
       "854   [https://images.craigslist.org/00p0p_feOTk7e7J...           1      cto   \n",
       "852   [https://images.craigslist.org/00808_5RxNYH7Bx...           1      bfs   \n",
       "1668  [https://images.craigslist.org/00e0e_4xR3aTQpa...           1      ctd   \n",
       "\n",
       "      metadata_length  date         location   mileage  \n",
       "2987                2  3/12                        NaN  \n",
       "1701                3  3/12  + seth wendling   14000.0  \n",
       "854                 3  3/14       providence  134000.0  \n",
       "852                 2  3/14       providence       NaN  \n",
       "1668                3  3/12  + seth wendling   60000.0  "
      ]
     },
     "execution_count": 65,
     "metadata": {},
     "output_type": "execute_result"
    }
   ],
   "source": [
    "df.sort_values(\"price\", ascending = False).head()"
   ]
  },
  {
   "cell_type": "code",
   "execution_count": 66,
   "id": "b4bfbf2f",
   "metadata": {},
   "outputs": [
    {
     "data": {
      "text/plain": [
       "count    3242.000000\n",
       "mean       10.291178\n",
       "std         7.351767\n",
       "min         0.000000\n",
       "25%         7.000000\n",
       "50%         9.000000\n",
       "75%        12.000000\n",
       "max        56.000000\n",
       "Name: location, dtype: float64"
      ]
     },
     "execution_count": 66,
     "metadata": {},
     "output_type": "execute_result"
    }
   ],
   "source": [
    "df[\"location\"].str.len().describe()"
   ]
  },
  {
   "cell_type": "code",
   "execution_count": 69,
   "id": "2a83cd7f",
   "metadata": {},
   "outputs": [
    {
     "data": {
      "text/plain": [
       "count    292.000000\n",
       "mean      11.102740\n",
       "std       28.982452\n",
       "min        1.000000\n",
       "25%        1.000000\n",
       "50%        2.000000\n",
       "75%        6.000000\n",
       "max      252.000000\n",
       "Name: location, dtype: float64"
      ]
     },
     "execution_count": 69,
     "metadata": {},
     "output_type": "execute_result"
    }
   ],
   "source": [
    "df[\"location\"].value_counts().describe()"
   ]
  },
  {
   "cell_type": "code",
   "execution_count": 70,
   "id": "c281f7b2",
   "metadata": {},
   "outputs": [
    {
     "data": {
      "text/plain": [
       "12"
      ]
     },
     "execution_count": 70,
     "metadata": {},
     "output_type": "execute_result"
    }
   ],
   "source": [
    "df[\"location\"].isna().sum()"
   ]
  },
  {
   "cell_type": "code",
   "execution_count": 73,
   "id": "94610e35",
   "metadata": {},
   "outputs": [
    {
     "data": {
      "text/plain": [
       "count    3254.000000\n",
       "mean       89.156423\n",
       "std         5.815679\n",
       "min        60.000000\n",
       "25%        87.000000\n",
       "50%        91.000000\n",
       "75%        93.000000\n",
       "max        96.000000\n",
       "Name: link, dtype: float64"
      ]
     },
     "execution_count": 73,
     "metadata": {},
     "output_type": "execute_result"
    }
   ],
   "source": [
    "df[\"link\"].str.len().describe()"
   ]
  },
  {
   "cell_type": "code",
   "execution_count": 79,
   "id": "805107d8",
   "metadata": {},
   "outputs": [
    {
     "data": {
      "text/plain": [
       "count    3254.000000\n",
       "mean        1.151199\n",
       "std         0.358297\n",
       "min         1.000000\n",
       "25%         1.000000\n",
       "50%         1.000000\n",
       "75%         1.000000\n",
       "max         2.000000\n",
       "Name: images, dtype: float64"
      ]
     },
     "execution_count": 79,
     "metadata": {},
     "output_type": "execute_result"
    }
   ],
   "source": [
    "df[\"images\"].map(len).describe()"
   ]
  },
  {
   "cell_type": "code",
   "execution_count": 80,
   "id": "e8b4c487",
   "metadata": {},
   "outputs": [
    {
     "data": {
      "text/plain": [
       "{'title': 'kitchenaid measuring cups & spoons plastic',\n",
       " 'metadata': '7 mins ago·westerly',\n",
       " 'price': 5.0,\n",
       " 'link': 'https://providence.craigslist.org/hsh/d/westerly-kitchenaid-measuring-cups/7726876655.html',\n",
       " 'images': ['https://images.craigslist.org/00C0C_eGe6uOxr3zC_07K0ak_300x300.jpg'],\n",
       " 'num_images': 1,\n",
       " 'category': 'hsh',\n",
       " 'metadata_length': 2,\n",
       " 'date': '3/14',\n",
       " 'location': 'westerly',\n",
       " 'mileage': None}"
      ]
     },
     "execution_count": 80,
     "metadata": {},
     "output_type": "execute_result"
    }
   ],
   "source": [
    "items[0]"
   ]
  },
  {
   "cell_type": "code",
   "execution_count": 82,
   "id": "abb7409e",
   "metadata": {},
   "outputs": [
    {
     "data": {
      "text/plain": [
       "count     59.000000\n",
       "mean      55.152542\n",
       "std       76.478488\n",
       "min        1.000000\n",
       "25%        4.000000\n",
       "50%       23.000000\n",
       "75%       79.000000\n",
       "max      365.000000\n",
       "Name: category, dtype: float64"
      ]
     },
     "execution_count": 82,
     "metadata": {},
     "output_type": "execute_result"
    }
   ],
   "source": [
    "df[\"category\"].value_counts().describe()"
   ]
  },
  {
   "cell_type": "code",
   "execution_count": 83,
   "id": "16f75447",
   "metadata": {},
   "outputs": [
    {
     "data": {
      "text/plain": [
       "count       5.000000\n",
       "mean      650.800000\n",
       "std       719.982083\n",
       "min         1.000000\n",
       "25%       242.000000\n",
       "50%       335.000000\n",
       "75%       869.000000\n",
       "max      1807.000000\n",
       "Name: date, dtype: float64"
      ]
     },
     "execution_count": 83,
     "metadata": {},
     "output_type": "execute_result"
    }
   ],
   "source": [
    "df[\"date\"].value_counts().describe()"
   ]
  },
  {
   "cell_type": "code",
   "execution_count": 85,
   "id": "498d2bc7",
   "metadata": {},
   "outputs": [
    {
     "data": {
      "text/plain": [
       "count       200.000000\n",
       "mean      92998.605000\n",
       "std       71585.094979\n",
       "min          10.000000\n",
       "25%        4553.750000\n",
       "50%      106500.000000\n",
       "75%      147250.000000\n",
       "max      344000.000000\n",
       "Name: mileage, dtype: float64"
      ]
     },
     "execution_count": 85,
     "metadata": {},
     "output_type": "execute_result"
    }
   ],
   "source": [
    "df[\"mileage\"].describe()"
   ]
  },
  {
   "cell_type": "code",
   "execution_count": null,
   "id": "ed74bd45",
   "metadata": {},
   "outputs": [],
   "source": []
  }
 ],
 "metadata": {
  "kernelspec": {
   "display_name": "cs1951-final-project",
   "language": "python",
   "name": "cs1951-final-project"
  },
  "language_info": {
   "codemirror_mode": {
    "name": "ipython",
    "version": 3
   },
   "file_extension": ".py",
   "mimetype": "text/x-python",
   "name": "python",
   "nbconvert_exporter": "python",
   "pygments_lexer": "ipython3",
   "version": "3.7.9"
  }
 },
 "nbformat": 4,
 "nbformat_minor": 5
}
