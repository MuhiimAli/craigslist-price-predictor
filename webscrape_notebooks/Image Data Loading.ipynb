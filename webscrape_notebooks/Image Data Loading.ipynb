{
 "cells": [
  {
   "cell_type": "code",
   "execution_count": 12,
   "id": "a9683bba",
   "metadata": {},
   "outputs": [],
   "source": [
    "import json\n",
    "from PIL import Image\n",
    "import requests\n",
    "from io import BytesIO\n",
    "import numpy as np\n",
    "from tqdm import tqdm"
   ]
  },
  {
   "cell_type": "code",
   "execution_count": 2,
   "id": "05745d64",
   "metadata": {},
   "outputs": [],
   "source": [
    "with open(\"../data_deliverable/data/preprocessed_items.json\", \"r\") as items_json:\n",
    "    items = json.load(items_json)"
   ]
  },
  {
   "cell_type": "code",
   "execution_count": 4,
   "id": "3efe83c6",
   "metadata": {},
   "outputs": [
    {
     "data": {
      "text/plain": [
       "3254"
      ]
     },
     "execution_count": 4,
     "metadata": {},
     "output_type": "execute_result"
    }
   ],
   "source": [
    "len(items)"
   ]
  },
  {
   "cell_type": "code",
   "execution_count": 6,
   "id": "2f93c3b0",
   "metadata": {},
   "outputs": [
    {
     "data": {
      "text/plain": [
       "[]"
      ]
     },
     "execution_count": 6,
     "metadata": {},
     "output_type": "execute_result"
    }
   ],
   "source": [
    "[i for i in items if len(i[\"images\"]) == 0]"
   ]
  },
  {
   "cell_type": "code",
   "execution_count": 11,
   "id": "9907e862",
   "metadata": {},
   "outputs": [],
   "source": [
    "item_images = []"
   ]
  },
  {
   "cell_type": "code",
   "execution_count": 15,
   "id": "b8d99a7e",
   "metadata": {},
   "outputs": [
    {
     "name": "stderr",
     "output_type": "stream",
     "text": [
      "100%|██████████████████████████████████████████████████████████████████████████████████████████████████████████████████████████████████████| 391/391 [01:06<00:00,  5.84it/s]\n"
     ]
    }
   ],
   "source": [
    "for item in tqdm(items[2863:]):\n",
    "    try:\n",
    "        response = requests.get(item[\"images\"][0])\n",
    "        img = Image.open(BytesIO(response.content))\n",
    "        item_images.append(np.asarray(img))\n",
    "    except:\n",
    "        item_images.append(0)"
   ]
  },
  {
   "cell_type": "code",
   "execution_count": 16,
   "id": "05d2d89d",
   "metadata": {},
   "outputs": [
    {
     "data": {
      "text/plain": [
       "3254"
      ]
     },
     "execution_count": 16,
     "metadata": {},
     "output_type": "execute_result"
    }
   ],
   "source": [
    "len(item_images)"
   ]
  },
  {
   "cell_type": "code",
   "execution_count": 19,
   "id": "c96a9641",
   "metadata": {},
   "outputs": [],
   "source": [
    "filtered_index = [i for i in range(len(item_images)) if isinstance(item_images[i],np.ndarray)]"
   ]
  },
  {
   "cell_type": "code",
   "execution_count": 20,
   "id": "f0ff24cf",
   "metadata": {},
   "outputs": [
    {
     "data": {
      "text/plain": [
       "3253"
      ]
     },
     "execution_count": 20,
     "metadata": {},
     "output_type": "execute_result"
    }
   ],
   "source": [
    "len(filtered_index)"
   ]
  },
  {
   "cell_type": "code",
   "execution_count": 28,
   "id": "3d122f6c",
   "metadata": {},
   "outputs": [],
   "source": [
    "filtered_items = [items[i] for i in filtered_index]\n",
    "filtered_images = [item_images[i] for i in filtered_index]"
   ]
  },
  {
   "cell_type": "code",
   "execution_count": 29,
   "id": "b52e41a2",
   "metadata": {},
   "outputs": [
    {
     "data": {
      "text/plain": [
       "3253"
      ]
     },
     "execution_count": 29,
     "metadata": {},
     "output_type": "execute_result"
    }
   ],
   "source": [
    "len(filtered_items)"
   ]
  },
  {
   "cell_type": "code",
   "execution_count": 30,
   "id": "4dd6369c",
   "metadata": {},
   "outputs": [
    {
     "data": {
      "text/plain": [
       "(300, 225, 3)"
      ]
     },
     "execution_count": 30,
     "metadata": {},
     "output_type": "execute_result"
    }
   ],
   "source": [
    "item_images[0].shape"
   ]
  },
  {
   "cell_type": "code",
   "execution_count": 31,
   "id": "19c1d79b",
   "metadata": {},
   "outputs": [
    {
     "data": {
      "text/plain": [
       "(300, 225, 3)"
      ]
     },
     "execution_count": 31,
     "metadata": {},
     "output_type": "execute_result"
    }
   ],
   "source": [
    "item_images[1].shape"
   ]
  },
  {
   "cell_type": "code",
   "execution_count": 37,
   "id": "672c6436",
   "metadata": {},
   "outputs": [
    {
     "name": "stderr",
     "output_type": "stream",
     "text": [
      "100%|██████████████████████████████████████████████████████████████████████████████████████████████████████████████████████████████████| 3253/3253 [00:03<00:00, 1066.71it/s]\n"
     ]
    }
   ],
   "source": [
    "filtered_resized_images = []\n",
    "for im in tqdm(filtered_images):\n",
    "    im_ = Image.fromarray(im)\n",
    "    filtered_resized_images.append(np.asarray(im_.resize((256, 256))))"
   ]
  },
  {
   "cell_type": "code",
   "execution_count": 38,
   "id": "a0731cd4",
   "metadata": {},
   "outputs": [
    {
     "data": {
      "text/plain": [
       "3253"
      ]
     },
     "execution_count": 38,
     "metadata": {},
     "output_type": "execute_result"
    }
   ],
   "source": [
    "len(filtered_resized_images)"
   ]
  },
  {
   "cell_type": "code",
   "execution_count": 40,
   "id": "bb1e382c",
   "metadata": {},
   "outputs": [],
   "source": [
    "for im in filtered_resized_images:\n",
    "    if im.shape != (256, 256, 3):\n",
    "        print(im.shape)"
   ]
  },
  {
   "cell_type": "code",
   "execution_count": 41,
   "id": "63d8a6fd",
   "metadata": {},
   "outputs": [],
   "source": [
    "big_arr = np.array(filtered_resized_images)"
   ]
  },
  {
   "cell_type": "code",
   "execution_count": 42,
   "id": "1eabe117",
   "metadata": {},
   "outputs": [
    {
     "data": {
      "text/plain": [
       "(3253, 256, 256, 3)"
      ]
     },
     "execution_count": 42,
     "metadata": {},
     "output_type": "execute_result"
    }
   ],
   "source": [
    "big_arr.shape"
   ]
  },
  {
   "cell_type": "code",
   "execution_count": 44,
   "id": "322cdfa2",
   "metadata": {},
   "outputs": [],
   "source": [
    "with open(\"../data/item_images.npy\", \"wb\") as npy_file:\n",
    "    np.save(npy_file, big_arr)"
   ]
  },
  {
   "cell_type": "code",
   "execution_count": 45,
   "id": "ca164f4a",
   "metadata": {},
   "outputs": [],
   "source": [
    "with open(\"../data/item_with_images.json\", \"w\") as items_json:\n",
    "    json.dump(filtered_items, items_json)"
   ]
  },
  {
   "cell_type": "code",
   "execution_count": null,
   "id": "9d21d1ff",
   "metadata": {},
   "outputs": [],
   "source": []
  }
 ],
 "metadata": {
  "kernelspec": {
   "display_name": "Python 3 (ipykernel)",
   "language": "python",
   "name": "python3"
  },
  "language_info": {
   "codemirror_mode": {
    "name": "ipython",
    "version": 3
   },
   "file_extension": ".py",
   "mimetype": "text/x-python",
   "name": "python",
   "nbconvert_exporter": "python",
   "pygments_lexer": "ipython3",
   "version": "3.7.9"
  }
 },
 "nbformat": 4,
 "nbformat_minor": 5
}
